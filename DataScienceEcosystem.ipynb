{
 "cells": [
  {
   "cell_type": "markdown",
   "id": "3c7ad652-454f-47a2-85c9-76bd0db8562f",
   "metadata": {},
   "source": [
    "# Data Science Ecosystem"
   ]
  },
  {
   "cell_type": "markdown",
   "id": "a2663fcd-7f87-495d-aaa6-94bbef077f6c",
   "metadata": {},
   "source": [
    "In this notebook, Data Science Tools and Ecosystem are summerized."
   ]
  },
  {
   "cell_type": "markdown",
   "id": "f06002f0-40b2-4b24-875e-b62354b457f1",
   "metadata": {
    "tags": []
   },
   "source": [
    "**Objectives:**\n",
    "- List popular languages of Data Science\n",
    "- List commonly used libraries in Data Science\n",
    "- List 3 popular development environments in Data Science\n",
    "- Give examples of performing arithmetic operations in Python\n",
    "- Demonstrate the use of markdown formats in Jupyter notebook"
   ]
  },
  {
   "cell_type": "markdown",
   "id": "ae9629a9-2a0c-4a4d-9e06-5d2aa327c5e1",
   "metadata": {},
   "source": [
    "Some of the popular languages that Data Scientists use are:\n",
    "1. Python\n",
    "2. R\n",
    "3. SQL\n",
    "4. Java\n",
    "5. JavaScript\n",
    "6. Scala\n",
    "7. C++"
   ]
  },
  {
   "cell_type": "markdown",
   "id": "ab36d477-7882-44d8-870e-fe2fb57431c0",
   "metadata": {},
   "source": [
    "Some of the commonly used libraries used by Data Scientists include:\n",
    "1. Pandas\n",
    "2. Numpy\n",
    "3. Matplotlib\n",
    "4. ScikitLearn\n",
    "5. ggplot\n",
    "6. dplyr\n",
    "7. stringr\n",
    "8. Tidyverse"
   ]
  },
  {
   "cell_type": "markdown",
   "id": "139014b3-f22f-4ea7-bcce-7d6c7f6c6921",
   "metadata": {},
   "source": [
    "|Data Science Tools|\n",
    "|------------------|\n",
    "|Jupyter Lab/Jupyter Notebook|\n",
    "|Apache Zeppelin|\n",
    "|R Studio|"
   ]
  },
  {
   "cell_type": "markdown",
   "id": "ec92133c-08c2-4927-8f0a-f21cfffdb115",
   "metadata": {
    "tags": []
   },
   "source": [
    "### Below are a few examples of evaluating arithmetic expressions in Python."
   ]
  },
  {
   "cell_type": "code",
   "execution_count": 1,
   "id": "bc15ddf8-9f92-4a6d-af82-e11e18c6c7b0",
   "metadata": {
    "tags": []
   },
   "outputs": [
    {
     "data": {
      "text/plain": [
       "17"
      ]
     },
     "execution_count": 1,
     "metadata": {},
     "output_type": "execute_result"
    }
   ],
   "source": [
    "#This a simple arithmetic expression to mutiply then add integers\n",
    "\n",
    "(3*4)+5"
   ]
  },
  {
   "cell_type": "code",
   "execution_count": 4,
   "id": "6ca18d6b-2092-4663-965c-b0b4c13ac398",
   "metadata": {
    "tags": []
   },
   "outputs": [
    {
     "data": {
      "text/plain": [
       "3.3333333333333335"
      ]
     },
     "execution_count": 4,
     "metadata": {},
     "output_type": "execute_result"
    }
   ],
   "source": [
    "#This will convert 200 minutes to hours by diving by 60\n",
    "\n",
    "200/60"
   ]
  },
  {
   "cell_type": "markdown",
   "id": "5e4e332a-7596-4ebc-be5c-f072cda9a6d8",
   "metadata": {},
   "source": [
    "## Author\n",
    "Nevin Xavier N"
   ]
  }
 ],
 "metadata": {
  "kernelspec": {
   "display_name": "Python 3 (ipykernel)",
   "language": "python",
   "name": "python3"
  },
  "language_info": {
   "codemirror_mode": {
    "name": "ipython",
    "version": 3
   },
   "file_extension": ".py",
   "mimetype": "text/x-python",
   "name": "python",
   "nbconvert_exporter": "python",
   "pygments_lexer": "ipython3",
   "version": "3.10.7"
  },
  "toc-showcode": true
 },
 "nbformat": 4,
 "nbformat_minor": 5
}
